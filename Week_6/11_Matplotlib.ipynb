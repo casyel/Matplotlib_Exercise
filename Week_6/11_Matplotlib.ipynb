{
 "cells": [
  {
   "cell_type": "markdown",
   "id": "293a2917",
   "metadata": {
    "slideshow": {
     "slide_type": "slide"
    }
   },
   "source": [
    "# Violin Plot / Violin Chart"
   ]
  },
  {
   "cell_type": "markdown",
   "id": "569bb9c3",
   "metadata": {
    "slideshow": {
     "slide_type": "subslide"
    }
   },
   "source": [
    "2273033 - Casyel Bersheba Limpele"
   ]
  },
  {
   "cell_type": "markdown",
   "id": "1643b2ad",
   "metadata": {
    "slideshow": {
     "slide_type": "subslide"
    }
   },
   "source": [
    "Dalam sesi ini kita akan mempelajari cara membuat violin plot dengan Matplotlib."
   ]
  },
  {
   "cell_type": "markdown",
   "id": "8a0636af",
   "metadata": {
    "slideshow": {
     "slide_type": "subslide"
    }
   },
   "source": [
    "Import modules"
   ]
  },
  {
   "cell_type": "code",
   "execution_count": null,
   "id": "f2525a2d",
   "metadata": {},
   "outputs": [],
   "source": [
    "%matplotlib inline"
   ]
  },
  {
   "cell_type": "code",
   "execution_count": 1,
   "id": "543d4e48",
   "metadata": {},
   "outputs": [
    {
     "name": "stdout",
     "output_type": "stream",
     "text": [
      "3.7.2\n",
      "1.24.3\n"
     ]
    }
   ],
   "source": [
    "import matplotlib\n",
    "import matplotlib.pyplot as plt\n",
    "import numpy as np\n",
    "\n",
    "print(matplotlib.__version__)\n",
    "print(np.__version__)"
   ]
  },
  {
   "cell_type": "markdown",
   "id": "f77b280e",
   "metadata": {
    "slideshow": {
     "slide_type": "subslide"
    }
   },
   "source": [
    "Sample Dataset"
   ]
  },
  {
   "cell_type": "code",
   "execution_count": null,
   "id": "75188a15",
   "metadata": {},
   "outputs": [],
   "source": [
    "np.random.seed(2)\n",
    "data = np.random.normal(loc=100, scale=10, size=200)\n",
    "data"
   ]
  },
  {
   "cell_type": "markdown",
   "id": "30ba826d",
   "metadata": {
    "slideshow": {
     "slide_type": "subslide"
    }
   },
   "source": [
    "Simple Violin Plot"
   ]
  },
  {
   "cell_type": "code",
   "execution_count": null,
   "id": "701a3c15",
   "metadata": {},
   "outputs": [],
   "source": [
    "plt.violinplot(data)\n",
    "\n",
    "plt.title('Simple Violin Plot')\n",
    "plt.xlabel('Sumbu X')\n",
    "plt.ylabel('Sumbu Y')\n",
    "\n",
    "plt.show()"
   ]
  },
  {
   "cell_type": "markdown",
   "id": "3ccb0da7",
   "metadata": {
    "slideshow": {
     "slide_type": "subslide"
    }
   },
   "source": [
    "Pengaturan pada Violin Plot"
   ]
  },
  {
   "cell_type": "code",
   "execution_count": null,
   "id": "5ccdd012",
   "metadata": {},
   "outputs": [],
   "source": [
    "plt.violinplot(data,\n",
    "               showextrema=True,\n",
    "               showmeans=False,\n",
    "               showmedians=False,\n",
    "               quantiles=[0.25, 0.5, 0.75])\n",
    "\n",
    "plt.title('Violin Plot')\n",
    "plt.xlabel('Sumbu X')\n",
    "plt.ylabel('Sumbu Y')\n",
    "\n",
    "plt.show()"
   ]
  },
  {
   "cell_type": "markdown",
   "id": "d151b63a",
   "metadata": {
    "slideshow": {
     "slide_type": "subslide"
    }
   },
   "source": [
    "Horisontal Violin Plot"
   ]
  },
  {
   "cell_type": "code",
   "execution_count": null,
   "id": "f139c481",
   "metadata": {},
   "outputs": [],
   "source": [
    "plt.violinplot(data, vert=False)\n",
    "\n",
    "plt.title('Horisontal Violin Plot')\n",
    "plt.xlabel('Sumbu X')\n",
    "plt.ylabel('Sumbu Y')\n",
    "\n",
    "plt.show()"
   ]
  },
  {
   "cell_type": "markdown",
   "id": "dd7b4ce2",
   "metadata": {
    "slideshow": {
     "slide_type": "subslide"
    }
   },
   "source": [
    "Multiple Violin Plot"
   ]
  },
  {
   "cell_type": "code",
   "execution_count": null,
   "id": "4d41ec35",
   "metadata": {},
   "outputs": [],
   "source": [
    "np.random.seed(10)\n",
    "data1 = np.random.normal(100, 10, 200)\n",
    "data2 = np.random.normal(80, 30, 200)\n",
    "data3 = np.random.normal(90, 20, 200)\n",
    "data4 = np.random.normal(70, 25, 200)\n",
    "\n",
    "data = [data1, data2, data3, data4]"
   ]
  },
  {
   "cell_type": "code",
   "execution_count": null,
   "id": "0fc131d8",
   "metadata": {},
   "outputs": [],
   "source": [
    "plt.violinplot(data)\n",
    "\n",
    "plt.title('Multiple Violin Plot')\n",
    "plt.xlabel('Sumbu X')\n",
    "plt.ylabel('Sumbu Y')\n",
    "\n",
    "plt.show()"
   ]
  }
 ],
 "metadata": {
  "celltoolbar": "Slideshow",
  "kernelspec": {
   "display_name": "Python 3 (ipykernel)",
   "language": "python",
   "name": "python3"
  },
  "language_info": {
   "codemirror_mode": {
    "name": "ipython",
    "version": 3
   },
   "file_extension": ".py",
   "mimetype": "text/x-python",
   "name": "python",
   "nbconvert_exporter": "python",
   "pygments_lexer": "ipython3",
   "version": "3.11.5"
  }
 },
 "nbformat": 4,
 "nbformat_minor": 5
}
