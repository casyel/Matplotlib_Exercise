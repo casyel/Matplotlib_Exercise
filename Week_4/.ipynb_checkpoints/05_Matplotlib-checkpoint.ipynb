{
 "cells": [
  {
   "cell_type": "markdown",
   "id": "321b375d",
   "metadata": {
    "slideshow": {
     "slide_type": "slide"
    }
   },
   "source": [
    "# Bar Plot / Bar Chart"
   ]
  },
  {
   "cell_type": "markdown",
   "id": "7855ce01",
   "metadata": {
    "slideshow": {
     "slide_type": "subslide"
    }
   },
   "source": [
    "2273033 - Casyel Bersheba Limpele"
   ]
  },
  {
   "cell_type": "markdown",
   "id": "14ab8e6f",
   "metadata": {
    "slideshow": {
     "slide_type": "subslide"
    }
   },
   "source": [
    "Dalam sesi ini kita akan mempelajari cara membuat bar plot dengan Matplotlib."
   ]
  },
  {
   "cell_type": "markdown",
   "id": "14b52fb4",
   "metadata": {
    "slideshow": {
     "slide_type": "subslide"
    }
   },
   "source": [
    "Import Modules"
   ]
  },
  {
   "cell_type": "code",
   "execution_count": 1,
   "id": "42433722",
   "metadata": {},
   "outputs": [],
   "source": [
    "%matplotlib inline"
   ]
  },
  {
   "cell_type": "code",
   "execution_count": 2,
   "id": "c2c07511",
   "metadata": {},
   "outputs": [
    {
     "name": "stdout",
     "output_type": "stream",
     "text": [
      "3.7.2\n",
      "1.24.3\n"
     ]
    }
   ],
   "source": [
    "import matplotlib\n",
    "import matplotlib.pyplot as plt\n",
    "import numpy as np\n",
    "\n",
    "print(matplotlib.__version__)\n",
    "print(np.__version__)"
   ]
  },
  {
   "cell_type": "markdown",
   "id": "e75794a6",
   "metadata": {
    "slideshow": {
     "slide_type": "subslide"
    }
   },
   "source": [
    "Simple Bar Plot"
   ]
  },
  {
   "cell_type": "code",
   "execution_count": null,
   "id": "c9602298",
   "metadata": {},
   "outputs": [],
   "source": [
    "data = [25, 45, 55, 125, 225]\n",
    "kategori = ['A', 'B', 'C', 'D', 'E']"
   ]
  },
  {
   "cell_type": "code",
   "execution_count": null,
   "id": "512f0c85",
   "metadata": {},
   "outputs": [],
   "source": [
    "plt.bar(kategori, data)\n",
    "plt.grid()\n",
    "\n",
    "plt.xlabel('Kategori')\n",
    "plt.ylabel('Jumlah')\n",
    "plt.title('Contoh Bar Plot')"
   ]
  },
  {
   "cell_type": "markdown",
   "id": "106ce235",
   "metadata": {
    "slideshow": {
     "slide_type": "subslide"
    }
   },
   "source": [
    "Pengaturan Grid dan Color"
   ]
  },
  {
   "cell_type": "code",
   "execution_count": null,
   "id": "bed4c290",
   "metadata": {},
   "outputs": [],
   "source": [
    "data = [25, 45, 55, 125, 225]\n",
    "kategori = ['A', 'B', 'C', 'D', 'E']"
   ]
  },
  {
   "cell_type": "code",
   "execution_count": null,
   "id": "35fc6f64",
   "metadata": {},
   "outputs": [],
   "source": [
    "plt.bar(kategori, \n",
    "        data, \n",
    "        color='red', \n",
    "        alpha=0.25)\n",
    "\n",
    "plt.grid(linestyle='--', \n",
    "         linewidth=2, \n",
    "         axis='y', # pilihan: x, y, both\n",
    "         alpha=0.50)\n",
    "\n",
    "plt.xlabel('Kategori')\n",
    "plt.ylabel('Jumlah')\n",
    "plt.title('Contoh Bar Plot')\n",
    "\n",
    "plt.show()"
   ]
  },
  {
   "cell_type": "markdown",
   "id": "0774890b",
   "metadata": {
    "slideshow": {
     "slide_type": "subslide"
    }
   },
   "source": [
    "Horisontal Bar Plot"
   ]
  },
  {
   "cell_type": "code",
   "execution_count": null,
   "id": "0e34fc7a",
   "metadata": {},
   "outputs": [],
   "source": [
    "data = [25, 45, 55, 125, 225]\n",
    "kategori = ['A', 'B', 'C', 'D', 'E']"
   ]
  },
  {
   "cell_type": "code",
   "execution_count": null,
   "id": "791c8673",
   "metadata": {},
   "outputs": [],
   "source": [
    "plt.barh(kategori, data)\n",
    "# plt.barh(kategori[::-1], data[::-1])\n",
    "\n",
    "plt.grid(linestyle='--', \n",
    "         linewidth=1, \n",
    "         axis='x',\n",
    "         alpha=0.75)\n",
    "\n",
    "plt.xlabel('Jumlah')\n",
    "plt.ylabel('Kategori')\n",
    "plt.title('Contoh Horisontal Bar Plot')"
   ]
  },
  {
   "cell_type": "code",
   "execution_count": null,
   "id": "e0923e93",
   "metadata": {},
   "outputs": [],
   "source": [
    "Stacked Bar Plot"
   ]
  },
  {
   "cell_type": "code",
   "execution_count": null,
   "id": "13421b93",
   "metadata": {},
   "outputs": [],
   "source": [
    "data1 = [25, 85, 75, 40, 60]\n",
    "data2 = [40, 35, 20, 55, 10]\n",
    "kategori = ['A', 'B', 'C', 'D', 'E']"
   ]
  },
  {
   "cell_type": "code",
   "execution_count": null,
   "id": "06a78684",
   "metadata": {},
   "outputs": [],
   "source": [
    "plt.bar(kategori, data1, label='Data 1')\n",
    "# plt.bar(kategori, data2, label='Data 2')\n",
    "plt.bar(kategori, data2, label='Data 2', bottom=data1)\n",
    "\n",
    "plt.legend()\n",
    "\n",
    "plt.grid(linestyle='--', \n",
    "         linewidth=1, \n",
    "         axis='y',\n",
    "         alpha=0.75)\n",
    "\n",
    "plt.xlabel('Kategori')\n",
    "plt.ylabel('Jumlah')\n",
    "plt.title('Contoh Stacked Bar Plot')"
   ]
  },
  {
   "cell_type": "code",
   "execution_count": null,
   "id": "b8982efa",
   "metadata": {},
   "outputs": [],
   "source": [
    "Grouped Bar Plot"
   ]
  },
  {
   "cell_type": "code",
   "execution_count": null,
   "id": "2a308b35",
   "metadata": {},
   "outputs": [],
   "source": [
    "data1 = [25,85, 75, 40, 60]\n",
    "data2 = [40, 35, 20, 55, 10]\n",
    "kategori = ['A', 'B', 'C', 'D', 'E']\n",
    "\n",
    "x = np.arange(len(kategori))\n",
    "x"
   ]
  },
  {
   "cell_type": "code",
   "execution_count": null,
   "id": "9845a21e",
   "metadata": {},
   "outputs": [],
   "source": [
    "width = 0.35\n",
    "\n",
    "plt.bar(x-width/2, data1, width, label='Data 1')\n",
    "plt.bar(x+width/2, data2, width, label='Data 2')\n",
    "\n",
    "plt.xticks(x, kategori)\n",
    "\n",
    "plt.grid(linestyle='--', \n",
    "         linewidth=1, \n",
    "         axis='y',\n",
    "         alpha=0.75)\n",
    "\n",
    "plt.xlabel('Kategori')\n",
    "plt.ylabel('Jumlah')\n",
    "plt.title('Contoh Grouped Bar Plot')\n",
    "\n",
    "plt.legend()\n",
    "plt.show()"
   ]
  }
 ],
 "metadata": {
  "celltoolbar": "Slideshow",
  "kernelspec": {
   "display_name": "Python 3 (ipykernel)",
   "language": "python",
   "name": "python3"
  },
  "language_info": {
   "codemirror_mode": {
    "name": "ipython",
    "version": 3
   },
   "file_extension": ".py",
   "mimetype": "text/x-python",
   "name": "python",
   "nbconvert_exporter": "python",
   "pygments_lexer": "ipython3",
   "version": "3.11.5"
  }
 },
 "nbformat": 4,
 "nbformat_minor": 5
}
